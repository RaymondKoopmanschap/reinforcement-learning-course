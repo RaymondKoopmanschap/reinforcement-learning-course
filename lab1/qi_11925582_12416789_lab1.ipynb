{
 "cells": [
  {
   "cell_type": "markdown",
   "metadata": {},
   "source": [
    "1. Policy evaluation\n",
    "2. Policy iteration\n",
    "3. Value iteration\n",
    "4. Monte Carlo prediction\n",
    "5. Monte Carlo control"
   ]
  },
  {
   "cell_type": "code",
   "execution_count": 1,
   "metadata": {
    "deletable": false,
    "editable": false,
    "nbgrader": {
     "checksum": "4eed621d3748a44866956caa0de5247b",
     "grade": false,
     "grade_id": "cell-fc69f22067705372",
     "locked": true,
     "schema_version": 1,
     "solution": false
    }
   },
   "outputs": [],
   "source": [
    "import numpy as np\n",
    "import matplotlib.pyplot as plt\n",
    "import sys\n",
    "from tqdm import tqdm as _tqdm\n",
    "\n",
    "def tqdm(*args, **kwargs):\n",
    "    return _tqdm(*args, **kwargs, mininterval=1)  # Safety, do not overflow buffer\n",
    "\n",
    "%matplotlib inline\n",
    "\n",
    "assert sys.version_info[:3] >= (3, 6, 0), \"Make sure you have Python 3.6 installed!\""
   ]
  },
  {
   "cell_type": "markdown",
   "metadata": {
    "deletable": false,
    "editable": false,
    "nbgrader": {
     "checksum": "bab7b3976d6730a0739fd462766b1d42",
     "grade": false,
     "grade_id": "cell-9ebb0d5b306dbdea",
     "locked": true,
     "schema_version": 1,
     "solution": false
    }
   },
   "source": [
    "---\n",
    "## 1. Policy Evaluation (1 point)"
   ]
  },
  {
   "cell_type": "markdown",
   "metadata": {
    "deletable": false,
    "editable": false,
    "nbgrader": {
     "checksum": "8d010aef9b5b288e694006a2aefe67e0",
     "grade": false,
     "grade_id": "cell-1078e8f0b90517ce",
     "locked": true,
     "schema_version": 1,
     "solution": false
    }
   },
   "source": [
    "In this exercise we will evaluate a policy, e.g. find the value function for a policy. The problem we consider is the gridworld from Example 4.1 in the book. The environment is implemented as `GridworldEnv`, which is a subclass of the `Env` class from [OpenAI Gym](https://github.com/openai/gym). This means that we can interact with the environment. We can look at the documentation to see how we can interact with the environment."
   ]
  },
  {
   "cell_type": "code",
   "execution_count": 2,
   "metadata": {
    "deletable": false,
    "editable": false,
    "nbgrader": {
     "checksum": "990081b68602e7e0c46f2edeab0fcb53",
     "grade": false,
     "grade_id": "cell-de586c5ac92d8d74",
     "locked": true,
     "schema_version": 1,
     "solution": false
    }
   },
   "outputs": [],
   "source": [
    "from gridworld import GridworldEnv\n",
    "env = GridworldEnv()"
   ]
  },
  {
   "cell_type": "markdown",
   "metadata": {
    "deletable": false,
    "editable": false,
    "nbgrader": {
     "checksum": "fe850a3b9a1be42ae79b895d206ac3b6",
     "grade": false,
     "grade_id": "cell-b2162d776f0c2014",
     "locked": true,
     "schema_version": 1,
     "solution": false
    }
   },
   "source": [
    "Now we want to evaluate a policy by using Dynamic Programming. For more information, see the [Intro to RL](https://drive.google.com/open?id=1opPSz5AZ_kVa1uWOdOiveNiBFiEOHjkG) book, section 4.1. This algorithm requires knowledge of the problem dynamics in the form of the transition probabilities $p(s',r|s,a)$. In general these are not available, but for our gridworld we know the dynamics and these can be accessed as `env.P`."
   ]
  },
  {
   "cell_type": "code",
   "execution_count": 3,
   "metadata": {},
   "outputs": [
    {
     "data": {
      "text/plain": "{0: {0: [(1.0, 0, 0.0, True)],\n  1: [(1.0, 0, 0.0, True)],\n  2: [(1.0, 0, 0.0, True)],\n  3: [(1.0, 0, 0.0, True)]},\n 1: {0: [(1.0, 1, -1.0, False)],\n  1: [(1.0, 2, -1.0, False)],\n  2: [(1.0, 5, -1.0, False)],\n  3: [(1.0, 0, -1.0, True)]},\n 2: {0: [(1.0, 2, -1.0, False)],\n  1: [(1.0, 3, -1.0, False)],\n  2: [(1.0, 6, -1.0, False)],\n  3: [(1.0, 1, -1.0, False)]},\n 3: {0: [(1.0, 3, -1.0, False)],\n  1: [(1.0, 3, -1.0, False)],\n  2: [(1.0, 7, -1.0, False)],\n  3: [(1.0, 2, -1.0, False)]},\n 4: {0: [(1.0, 0, -1.0, True)],\n  1: [(1.0, 5, -1.0, False)],\n  2: [(1.0, 8, -1.0, False)],\n  3: [(1.0, 4, -1.0, False)]},\n 5: {0: [(1.0, 1, -1.0, False)],\n  1: [(1.0, 6, -1.0, False)],\n  2: [(1.0, 9, -1.0, False)],\n  3: [(1.0, 4, -1.0, False)]},\n 6: {0: [(1.0, 2, -1.0, False)],\n  1: [(1.0, 7, -1.0, False)],\n  2: [(1.0, 10, -1.0, False)],\n  3: [(1.0, 5, -1.0, False)]},\n 7: {0: [(1.0, 3, -1.0, False)],\n  1: [(1.0, 7, -1.0, False)],\n  2: [(1.0, 11, -1.0, False)],\n  3: [(1.0, 6, -1.0, False)]},\n 8: {0: [(1.0, 4, -1.0, False)],\n  1: [(1.0, 9, -1.0, False)],\n  2: [(1.0, 12, -1.0, False)],\n  3: [(1.0, 8, -1.0, False)]},\n 9: {0: [(1.0, 5, -1.0, False)],\n  1: [(1.0, 10, -1.0, False)],\n  2: [(1.0, 13, -1.0, False)],\n  3: [(1.0, 8, -1.0, False)]},\n 10: {0: [(1.0, 6, -1.0, False)],\n  1: [(1.0, 11, -1.0, False)],\n  2: [(1.0, 14, -1.0, False)],\n  3: [(1.0, 9, -1.0, False)]},\n 11: {0: [(1.0, 7, -1.0, False)],\n  1: [(1.0, 11, -1.0, False)],\n  2: [(1.0, 15, -1.0, True)],\n  3: [(1.0, 10, -1.0, False)]},\n 12: {0: [(1.0, 8, -1.0, False)],\n  1: [(1.0, 13, -1.0, False)],\n  2: [(1.0, 12, -1.0, False)],\n  3: [(1.0, 12, -1.0, False)]},\n 13: {0: [(1.0, 9, -1.0, False)],\n  1: [(1.0, 14, -1.0, False)],\n  2: [(1.0, 13, -1.0, False)],\n  3: [(1.0, 12, -1.0, False)]},\n 14: {0: [(1.0, 10, -1.0, False)],\n  1: [(1.0, 15, -1.0, True)],\n  2: [(1.0, 14, -1.0, False)],\n  3: [(1.0, 13, -1.0, False)]},\n 15: {0: [(1.0, 15, 0.0, True)],\n  1: [(1.0, 15, 0.0, True)],\n  2: [(1.0, 15, 0.0, True)],\n  3: [(1.0, 15, 0.0, True)]}}"
     },
     "execution_count": 3,
     "metadata": {},
     "output_type": "execute_result"
    }
   ],
   "source": [
    "random_policy = np.ones([env.nS, env.nA]) / env.nA\n",
    "env.P"
   ]
  },
  {
   "cell_type": "code",
   "execution_count": 4,
   "metadata": {
    "deletable": false,
    "nbgrader": {
     "checksum": "d2d2b829d45d264cf8a6194dc8ccc132",
     "grade": false,
     "grade_id": "cell-209a484040bd874f",
     "locked": false,
     "schema_version": 1,
     "solution": true
    },
    "pixiedust": {
     "displayParams": {}
    }
   },
   "outputs": [],
   "source": [
    "def policy_eval(policy, env, discount_factor=1.0, theta=0.00001):\n",
    "    \"\"\"\n",
    "    Evaluate a policy given an environment and a full description of the environment's dynamics.\n",
    "    \n",
    "    Args:\n",
    "        policy: [S, A] shaped matrix representing the policy.\n",
    "        env: OpenAI env. env.P represents the transition probabilities of the environment.\n",
    "            env.P[s][a] is a list of transition tuples (prob, next_state, reward, done).\n",
    "            env.nS is a number of states in the environment. \n",
    "            env.nA is a number of actions in the environment.\n",
    "        theta: We stop evaluation once our value function change is less than theta for all states.\n",
    "        discount_factor: Gamma discount factor.\n",
    "    \n",
    "    Returns:\n",
    "        Vector of length env.nS representing the value function.\n",
    "    \"\"\"\n",
    "    # Start with a random (all 0) value function\n",
    "    V = np.zeros(env.nS)\n",
    "    while True:\n",
    "        delta = 0\n",
    "        for s in env.P:\n",
    "            v = V[s]     \n",
    "            r = np.array([env.P[s][a][0][2] for a in env.P[s]])\n",
    "            s_prime = np.array([env.P[s][a][0][1] for a in env.P[s]])\n",
    "            V[s] = policy[s] @ (r + discount_factor * V[s_prime])\n",
    "            \n",
    "            delta = max(delta, abs(v - V[s]))\n",
    "        if delta < theta:\n",
    "            break\n",
    "    return np.array(V)"
   ]
  },
  {
   "cell_type": "code",
   "execution_count": 5,
   "metadata": {
    "pixiedust": {
     "displayParams": {}
    }
   },
   "outputs": [
    {
     "data": {
      "text/plain": "array([  0.        , -13.99993529, -19.99990698, -21.99989761,\n       -13.99993529, -17.9999206 , -19.99991379, -19.99991477,\n       -19.99990698, -19.99991379, -17.99992725, -13.99994569,\n       -21.99989761, -19.99991477, -13.99994569,   0.        ])"
     },
     "execution_count": 5,
     "metadata": {},
     "output_type": "execute_result"
    }
   ],
   "source": [
    "random_policy = np.ones([env.nS, env.nA]) / env.nA\n",
    "V = policy_eval(random_policy, env)\n",
    "V"
   ]
  },
  {
   "cell_type": "code",
   "execution_count": 6,
   "metadata": {},
   "outputs": [
    {
     "data": {
      "text/plain": "<Figure size 432x288 with 2 Axes>",
      "image/png": "[encoded data removed]"
     },
     "metadata": {
      "needs_background": "light"
     },
     "output_type": "display_data"
    }
   ],
   "source": [
    "def plot_gridworld_value(V):\n",
    "    plt.figure()\n",
    "    c = plt.pcolormesh(V, cmap='gray')\n",
    "    plt.colorbar(c)\n",
    "    plt.gca().invert_yaxis()  # In the array, first row = 0 is on top\n",
    "\n",
    "plot_gridworld_value(V.reshape(env.shape))"
   ]
  },
  {
   "cell_type": "code",
   "execution_count": 7,
   "metadata": {
    "deletable": false,
    "editable": false,
    "nbgrader": {
     "checksum": "5d879d65fc89af254883e1b68234e76e",
     "grade": true,
     "grade_id": "cell-b5c9d69b1731aff5",
     "locked": true,
     "points": 1,
     "schema_version": 1,
     "solution": false
    }
   },
   "outputs": [],
   "source": [
    "v = policy_eval(random_policy, env)\n",
    "assert v.shape == (env.nS)"
   ]
  },
  {
   "cell_type": "markdown",
   "metadata": {
    "deletable": false,
    "editable": false,
    "nbgrader": {
     "checksum": "863ed58baecbbb4923162f40084e870d",
     "grade": false,
     "grade_id": "cell-b680e98c9ff204b8",
     "locked": true,
     "schema_version": 1,
     "solution": false
    }
   },
   "source": [
    "---\n",
    "## 2. Policy Iteration (2 points)\n",
    "Using the policy evaluation algorithm we can implement policy iteration to find a good policy for this problem. Note that we do not need to use a discount_factor for episodic tasks but make sure your implementation can handle this correctly!"
   ]
  },
  {
   "cell_type": "code",
   "execution_count": 8,
   "metadata": {
    "deletable": false,
    "nbgrader": {
     "checksum": "cfa494b2b437f9007f6b29b1ed5e0f78",
     "grade": false,
     "grade_id": "cell-383c54749617512c",
     "locked": false,
     "schema_version": 1,
     "solution": true
    }
   },
   "outputs": [],
   "source": [
    "def policy_improvement(env, discount_factor=1.0):\n",
    "    \"\"\"\n",
    "    Policy Improvement Algorithm. Iteratively evaluates and improves a policy\n",
    "    until an optimal policy is found.\n",
    "    \n",
    "    Args:\n",
    "        env: The OpenAI envrionment.\n",
    "        policy_eval_fn: Policy Evaluation function that takes 3 arguments:\n",
    "            policy, env, discount_factor.\n",
    "        discount_factor: gamma discount factor.\n",
    "        \n",
    "    Returns:\n",
    "        A tuple (policy, V). \n",
    "        policy is the optimal policy, a matrix of shape [S, A] where each state s\n",
    "        contains a valid probability distribution over actions.\n",
    "        V is the value function for the optimal policy.\n",
    "        \n",
    "    \"\"\"\n",
    "    # Start with a random policy\n",
    "    policy = np.ones([env.nS, env.nA]) / env.nA\n",
    "    \n",
    "    while True:\n",
    "        \n",
    "        V = policy_eval(policy, env, discount_factor)\n",
    "        pol_stable = True\n",
    "        for s in env.P:\n",
    "            old_a = policy[s]\n",
    "            r = np.array([env.P[s][a][0][2] for a in env.P[s]])\n",
    "            s_prime = np.array([env.P[s][a][0][1] for a in env.P[s]])\n",
    "            action_value = r + discount_factor * V[s_prime]\n",
    "            policy[s] = 0\n",
    "            policy[s][np.argmax(action_value)] = 1\n",
    "            if np.array_equal(old_a, policy[s]) == False:\n",
    "                pol_stable = False\n",
    "        if pol_stable == True:\n",
    "            V = policy_eval(policy, env, discount_factor) # To see the final value function\n",
    "            break\n",
    "        \n",
    "    return policy, V"
   ]
  },
  {
   "cell_type": "code",
   "execution_count": 9,
   "metadata": {
    "deletable": false,
    "editable": false,
    "nbgrader": {
     "checksum": "c4ab9c8d01a5902c276a3fbfbcc89e01",
     "grade": true,
     "grade_id": "cell-8c62e92d1f34720b",
     "locked": true,
     "points": 1,
     "schema_version": 1,
     "solution": false
    }
   },
   "outputs": [
    {
     "name": "stdout",
     "output_type": "stream",
     "text": [
      "Policy Probability Distribution:\n",
      "[[1. 0. 0. 0.]\n",
      " [0. 0. 0. 1.]\n",
      " [0. 0. 0. 1.]\n",
      " [0. 0. 0. 1.]\n",
      " [1. 0. 0. 0.]\n",
      " [1. 0. 0. 0.]\n",
      " [0. 0. 0. 1.]\n",
      " [0. 0. 1. 0.]\n",
      " [1. 0. 0. 0.]\n",
      " [1. 0. 0. 0.]\n",
      " [0. 1. 0. 0.]\n",
      " [0. 0. 1. 0.]\n",
      " [1. 0. 0. 0.]\n",
      " [0. 1. 0. 0.]\n",
      " [0. 1. 0. 0.]\n",
      " [1. 0. 0. 0.]]\n",
      "\n",
      "Reshaped Grid Policy (0=up, 1=right, 2=down, 3=left):\n",
      "[[0 3 3 3]\n",
      " [0 0 3 2]\n",
      " [0 0 1 2]\n",
      " [0 1 1 0]]\n",
      "^<<<\n",
      "^^<v\n",
      "^^>v\n",
      "^>>^\n",
      "\n",
      "Value Function:\n",
      "[ 0. -1. -2. -3. -1. -2. -3. -2. -2. -3. -2. -1. -3. -2. -1.  0.]\n",
      "\n",
      "Reshaped Grid Value Function:\n",
      "[[ 0. -1. -2. -3.]\n",
      " [-1. -2. -3. -2.]\n",
      " [-2. -3. -2. -1.]\n",
      " [-3. -2. -1.  0.]]\n",
      "\n"
     ]
    },
    {
     "data": {
      "text/plain": "<Figure size 432x288 with 2 Axes>",
      "image/png": "[encoded data removed]"
     },
     "metadata": {
      "needs_background": "light"
     },
     "output_type": "display_data"
    }
   ],
   "source": [
    "policy, v = policy_improvement(env)\n",
    "print(\"Policy Probability Distribution:\")\n",
    "print(policy)\n",
    "print(\"\")\n",
    "\n",
    "def print_grid_policy(policy, symbols=[\"^\", \">\", \"v\", \"<\"]):\n",
    "    symbols = np.array(symbols)\n",
    "    for row in policy:\n",
    "        print(\"\".join(symbols[row]))\n",
    "\n",
    "print(\"Reshaped Grid Policy (0=up, 1=right, 2=down, 3=left):\")\n",
    "print(np.reshape(np.argmax(policy, axis=1), env.shape))\n",
    "print_grid_policy(np.reshape(np.argmax(policy, axis=1), env.shape))\n",
    "print(\"\")\n",
    "\n",
    "print(\"Value Function:\")\n",
    "print(v)\n",
    "print(\"\")\n",
    "\n",
    "print(\"Reshaped Grid Value Function:\")\n",
    "print(v.reshape(env.shape))\n",
    "print(\"\")\n",
    "\n",
    "plot_gridworld_value(v.reshape(env.shape))"
   ]
  },
  {
   "cell_type": "markdown",
   "metadata": {
    "deletable": false,
    "editable": false,
    "nbgrader": {
     "checksum": "c926edcbca292c79812c5b27eab63108",
     "grade": false,
     "grade_id": "cell-ceb755afcff43612",
     "locked": true,
     "schema_version": 1,
     "solution": false
    }
   },
   "source": [
    "---\n",
    "## 3. Value Iteration (3 points)\n",
    "Now implement the value iteration algorithm."
   ]
  },
  {
   "cell_type": "code",
   "execution_count": 10,
   "metadata": {
    "deletable": false,
    "nbgrader": {
     "checksum": "87f515e22f7ad0ea461271479dff3f5e",
     "grade": false,
     "grade_id": "cell-574fc5f6932fa4cc",
     "locked": false,
     "schema_version": 1,
     "solution": true
    }
   },
   "outputs": [],
   "source": [
    "def value_iteration(env, theta=0.0001, discount_factor=1.0):\n",
    "    \"\"\"\n",
    "    Value Iteration Algorithm.\n",
    "    \n",
    "    Args:\n",
    "        env: OpenAI env. env.P represents the transition probabilities of the environment.\n",
    "            env.P[s][a] is a list of transition tuples (prob, next_state, reward, done).\n",
    "            env.nS is a number of states in the environment. \n",
    "            env.nA is a number of actions in the environment.\n",
    "        theta: We stop evaluation once our value function change is less than theta for all states.\n",
    "        discount_factor: Gamma discount factor.\n",
    "        \n",
    "    Returns:\n",
    "        A tuple (policy, V) of the optimal policy and the optimal value function.        \n",
    "    \"\"\"\n",
    "    \n",
    "\n",
    "    V = np.zeros(env.nS)\n",
    "    policy = np.zeros([env.nS, env.nA])\n",
    "\n",
    "    while True:\n",
    "        delta = 0\n",
    "        for s in env.P:\n",
    "            v = V[s]\n",
    "            r = np.array([env.P[s][a][0][2] for a in env.P[s]])\n",
    "            s_prime = np.array([env.P[s][a][0][1] for a in env.P[s]])\n",
    "            values = r + discount_factor * V[s_prime]\n",
    "            V[s] = np.max(values)\n",
    "            delta = max(delta, abs(v-V[s]))\n",
    "        if delta < theta:\n",
    "            break\n",
    "    \n",
    "    for s in env.P:\n",
    "        r = np.array([env.P[s][a][0][2] for a in env.P[s]])\n",
    "        s_prime = np.array([env.P[s][a][0][1] for a in env.P[s]])\n",
    "        action_value = r + discount_factor * V[s_prime]\n",
    "        policy[s] = 0\n",
    "        policy[s][np.argmax(values)] = 1\n",
    "    \n",
    "    return policy, V"
   ]
  },
  {
   "cell_type": "code",
   "execution_count": 11,
   "metadata": {
    "deletable": false,
    "editable": false,
    "nbgrader": {
     "checksum": "d103427f5b98a8957ad486243f98e64c",
     "grade": true,
     "grade_id": "cell-b82ed3adfeecc757",
     "locked": true,
     "points": 1,
     "schema_version": 1,
     "solution": false
    }
   },
   "outputs": [
    {
     "name": "stdout",
     "output_type": "stream",
     "text": [
      "Policy Probability Distribution:\n",
      "[[1. 0. 0. 0.]\n",
      " [1. 0. 0. 0.]\n",
      " [1. 0. 0. 0.]\n",
      " [1. 0. 0. 0.]\n",
      " [1. 0. 0. 0.]\n",
      " [1. 0. 0. 0.]\n",
      " [1. 0. 0. 0.]\n",
      " [1. 0. 0. 0.]\n",
      " [1. 0. 0. 0.]\n",
      " [1. 0. 0. 0.]\n",
      " [1. 0. 0. 0.]\n",
      " [1. 0. 0. 0.]\n",
      " [1. 0. 0. 0.]\n",
      " [1. 0. 0. 0.]\n",
      " [1. 0. 0. 0.]\n",
      " [1. 0. 0. 0.]]\n",
      "\n",
      "Reshaped Grid Policy (0=up, 1=right, 2=down, 3=left):\n",
      "[[0 0 0 0]\n",
      " [0 0 0 0]\n",
      " [0 0 0 0]\n",
      " [0 0 0 0]]\n",
      "^^^^\n",
      "^^^^\n",
      "^^^^\n",
      "^^^^\n",
      "\n",
      "Value Function:\n",
      "[ 0. -1. -2. -3. -1. -2. -3. -2. -2. -3. -2. -1. -3. -2. -1.  0.]\n",
      "\n",
      "Reshaped Grid Value Function:\n",
      "[[ 0. -1. -2. -3.]\n",
      " [-1. -2. -3. -2.]\n",
      " [-2. -3. -2. -1.]\n",
      " [-3. -2. -1.  0.]]\n",
      "\n"
     ]
    }
   ],
   "source": [
    "policy, v = value_iteration(env)\n",
    "print(\"Policy Probability Distribution:\")\n",
    "print(policy)\n",
    "print(\"\")\n",
    "\n",
    "print(\"Reshaped Grid Policy (0=up, 1=right, 2=down, 3=left):\")\n",
    "print(np.reshape(np.argmax(policy, axis=1), env.shape))\n",
    "print_grid_policy(np.reshape(np.argmax(policy, axis=1), env.shape))\n",
    "print(\"\")\n",
    "\n",
    "print(\"Value Function:\")\n",
    "print(v)\n",
    "print(\"\")\n",
    "\n",
    "print(\"Reshaped Grid Value Function:\")\n",
    "print(v.reshape(env.shape))\n",
    "print(\"\")\n"
   ]
  },
  {
   "cell_type": "markdown",
   "metadata": {
    "deletable": false,
    "editable": false,
    "nbgrader": {
     "checksum": "3add7d8b6101d0e3b6250b6bb064566c",
     "grade": false,
     "grade_id": "cell-ded21ac846e244a3",
     "locked": true,
     "schema_version": 1,
     "solution": false
    }
   },
   "source": [
    "What is the difference between value iteration and policy iteration? Which algorithm is most efficient (e.g. needs to perform the least *backup* operations)? Please answer *concisely* in the cell below."
   ]
  },
  {
   "cell_type": "markdown",
   "metadata": {
    "deletable": false,
    "nbgrader": {
     "checksum": "078f713af4c6bf3af8fb31b8da772758",
     "grade": true,
     "grade_id": "cell-940a8d8e21f18f69",
     "locked": false,
     "points": 2,
     "schema_version": 1,
     "solution": true
    }
   },
   "source": [
    "Policy iteration first estimate $v$ given $\\pi$, then updates $\\pi$ with the maximum value of $v$ using a greedy approach. Then again estimating $v$ using the new $\\pi$ until the policy doesn't change anymore.\n",
    "\n",
    "Value iteration on the other hand updates $v$ given the max value over all the possible actions. This can be seen as implicitly doing a policy improvement step, since your policy would also be updated given the max value over all the possible actions. \n",
    "In this way you don't need to wait for convergence but can already directly work with a better implicit policy.\n",
    "This approach reduces the amount of backup operations needed and is more efficient than policy iteration.\n",
    "\n",
    "Note that the obtained value function doesn't belong to any particular policy, therefore the wording implicit policy. "
   ]
  },
  {
   "cell_type": "markdown",
   "metadata": {
    "deletable": false,
    "editable": false,
    "nbgrader": {
     "checksum": "98ec4e85c09c116f6fe1658fa0451e33",
     "grade": false,
     "grade_id": "cell-7ab207a9f93cf4d3",
     "locked": true,
     "schema_version": 1,
     "solution": false
    }
   },
   "source": [
    "## 4. Monte Carlo Prediction (7 points)\n",
    "What is the difference between Dynamic Programming and Monte Carlo? When would you use the one or the other algorithm?"
   ]
  },
  {
   "cell_type": "markdown",
   "metadata": {
    "deletable": false,
    "nbgrader": {
     "checksum": "dba98a584a2d9c97735f96547ac7442a",
     "grade": true,
     "grade_id": "cell-74a904ed87b8e2cc",
     "locked": false,
     "points": 2,
     "schema_version": 1,
     "solution": true
    }
   },
   "source": [
    "Monte Carlo samples sequence of states until a terminal state is reached and then updates the value function of the visited states. Whereas Dynamic Programming updates all the states Monte Carlo only samples the states. \n",
    "Also an MC update exist of completing a whole episode, whereas the DP algorithm updates after each step.\n",
    "\n",
    "Because MC samples, it doesn't require the whole MDP and the environment's dynamics $p$.\n",
    "MC is preffered over DP if\n",
    "1. DP becomes too computational expensive or\n",
    "2. The dynamics of the environment and thus the MDP is not known (in this case DP is not possible at all)"
   ]
  },
  {
   "cell_type": "markdown",
   "metadata": {
    "deletable": false,
    "editable": false,
    "nbgrader": {
     "checksum": "0d826feda7dc9cab51ad9db8ccbdfadf",
     "grade": false,
     "grade_id": "cell-5f0c1d608436b67b",
     "locked": true,
     "schema_version": 1,
     "solution": false
    }
   },
   "source": [
    "For the Monte Carlo Prediction we will look at the Blackjack game (Example 5.1 from the book), for which the `BlackjackEnv` is implemented in `blackjack.py`. Note that compared to the gridworld, the state is no longer a single integer, which is why we use a dictionary to represent the value function instead of a numpy array. By using `defaultdict`, each state gets a default value of 0."
   ]
  },
  {
   "cell_type": "code",
   "execution_count": 12,
   "metadata": {
    "deletable": false,
    "editable": false,
    "nbgrader": {
     "checksum": "fb7a884505c5973aff2fe9998cc104e2",
     "grade": false,
     "grade_id": "cell-a342b69fcfdea5b2",
     "locked": true,
     "schema_version": 1,
     "solution": false
    }
   },
   "outputs": [],
   "source": [
    "from blackjack import BlackjackEnv\n",
    "env = BlackjackEnv()"
   ]
  },
  {
   "cell_type": "markdown",
   "metadata": {
    "deletable": false,
    "editable": false,
    "nbgrader": {
     "checksum": "26ae90f402b5de7d07f23e776a525c4b",
     "grade": false,
     "grade_id": "cell-7366692dee80c32c",
     "locked": true,
     "schema_version": 1,
     "solution": false
    }
   },
   "source": [
    "For the Monte Carlo algorithm, we need to *interact* with the environment. This means that we start an episode by using `env.reset` and send the environment actions via `env.step` to observe the reward and next observation (state)."
   ]
  },
  {
   "cell_type": "code",
   "execution_count": 13,
   "metadata": {
    "deletable": false,
    "editable": false,
    "nbgrader": {
     "checksum": "ef5fc8c121d400f2192646c9201e7769",
     "grade": false,
     "grade_id": "cell-85356add2643980e",
     "locked": true,
     "schema_version": 1,
     "solution": false
    }
   },
   "outputs": [],
   "source": [
    "# So let's have a look at what we can do in general with an environment...\n",
    "import gym\n",
    "?gym.Env"
   ]
  },
  {
   "cell_type": "code",
   "execution_count": 14,
   "metadata": {
    "deletable": false,
    "editable": false,
    "nbgrader": {
     "checksum": "0433c9161cddc2d9171c8e87b1e9b444",
     "grade": false,
     "grade_id": "cell-251b7b17c5d08a24",
     "locked": true,
     "schema_version": 1,
     "solution": false
    }
   },
   "outputs": [],
   "source": [
    "# We can also look at the documentation/implementation of a method\n",
    "?env.step"
   ]
  },
  {
   "cell_type": "code",
   "execution_count": 15,
   "metadata": {
    "deletable": false,
    "editable": false,
    "nbgrader": {
     "checksum": "42aceb4ea182a1aacfb40c5f201d4b01",
     "grade": false,
     "grade_id": "cell-6decb2ab83c5bcec",
     "locked": true,
     "schema_version": 1,
     "solution": false
    }
   },
   "outputs": [],
   "source": [
    "??BlackjackEnv"
   ]
  },
  {
   "cell_type": "markdown",
   "metadata": {
    "deletable": false,
    "editable": false,
    "nbgrader": {
     "checksum": "8fa896a9ea64567134c861511cfa6011",
     "grade": false,
     "grade_id": "cell-ae161126d3cb1b7b",
     "locked": true,
     "schema_version": 1,
     "solution": false
    }
   },
   "source": [
    "A very simple policy for Blackjack is to *stick* if we have 20 or 21 points and *hit* otherwise. We want to know how good this policy is. This policy is *deterministic* and therefore a function that maps an observation to a single action. Technically, we can implement this as a dictionary or as a function, where we use the latter. To get started, let's implement this simple policy for BlackJack."
   ]
  },
  {
   "cell_type": "code",
   "execution_count": 16,
   "metadata": {
    "deletable": false,
    "nbgrader": {
     "checksum": "cc1b192852416b81f96f0858f1389d67",
     "grade": false,
     "grade_id": "cell-9fdcb503df9cdb08",
     "locked": false,
     "schema_version": 1,
     "solution": true
    }
   },
   "outputs": [],
   "source": [
    "def simple_policy(observation):\n",
    "    \"\"\"\n",
    "    A policy that sticks if the player score is >= 20 and hits otherwise.\n",
    "    \"\"\"\n",
    "    score = observation[0]\n",
    "    if score >= 20:\n",
    "        return 0\n",
    "    else:\n",
    "        return 1"
   ]
  },
  {
   "cell_type": "code",
   "execution_count": 17,
   "metadata": {
    "deletable": false,
    "editable": false,
    "nbgrader": {
     "checksum": "bf04382f012b102f2c5c360bb8da3241",
     "grade": true,
     "grade_id": "cell-99f02e2d9b338a5b",
     "locked": true,
     "points": 1,
     "schema_version": 1,
     "solution": false
    }
   },
   "outputs": [
    {
     "name": "stdout",
     "output_type": "stream",
     "text": [
      "(21, 10, True)\n",
      "((21, 10, True), 0, True, {})\n"
     ]
    }
   ],
   "source": [
    "s = env.reset()\n",
    "print(s)\n",
    "a = simple_policy(s)\n",
    "print(env.step(a))"
   ]
  },
  {
   "cell_type": "markdown",
   "metadata": {
    "deletable": false,
    "editable": false,
    "nbgrader": {
     "checksum": "b5e33f6499dd4040071dc62a3e8fccb2",
     "grade": false,
     "grade_id": "cell-0184f4c719afb98c",
     "locked": true,
     "schema_version": 1,
     "solution": false
    }
   },
   "source": [
    "Now implement either the MC prediction algorithm (either first visit or every visit). Hint: you can use `for i in tqdm(range(num_episodes))` to show a progress bar."
   ]
  },
  {
   "cell_type": "code",
   "execution_count": 18,
   "metadata": {
    "deletable": false,
    "nbgrader": {
     "checksum": "a90a42914d0f7ade801bee9a8bd04e19",
     "grade": true,
     "grade_id": "cell-b822e9d13cf1f65e",
     "locked": false,
     "points": 2,
     "schema_version": 1,
     "solution": true
    }
   },
   "outputs": [],
   "source": [
    "from collections import defaultdict\n",
    "\n",
    "def mc_prediction(policy, env, num_episodes, discount_factor=1):\n",
    "    \"\"\"\n",
    "    Monte Carlo prediction algorithm. Calculates the value function\n",
    "    for a given policy using sampling.\n",
    "    \n",
    "    Args:\n",
    "        policy: A function that maps an observation to action probabilities.\n",
    "        env: OpenAI gym environment.\n",
    "        num_episodes: Number of episodes to sample.\n",
    "        discount_factor: Gamma discount factor.\n",
    "    \n",
    "    Returns:\n",
    "        A dictionary that maps from state -> value.\n",
    "        The state is a tuple and the value is a float.\n",
    "    \"\"\"\n",
    "\n",
    "    # Keeps track of sum and count of returns for each state\n",
    "    returns_sum = defaultdict(float)\n",
    "    returns_count = defaultdict(float)\n",
    "    \n",
    "    # The final value function\n",
    "    V = defaultdict(float)\n",
    "\n",
    "    states = []\n",
    "    for i in range(num_episodes):\n",
    "        # Generate episode\n",
    "        s = env.reset()\n",
    "        done = False\n",
    "        state_and_rewards = []\n",
    "        while not done:    \n",
    "            state = s\n",
    "            a = simple_policy(s)\n",
    "            s, r, done, info = env.step(a)\n",
    "            state_and_rewards.append((state, r))\n",
    "            states.append(state)\n",
    "        # update count and sum\n",
    "        G = 0\n",
    "        for (s, r) in reversed(state_and_rewards):\n",
    "            G = discount_factor * G + r \n",
    "            returns_count[s] = returns_count[s] + 1\n",
    "            returns_sum[s] = returns_sum[s] + G\n",
    "            V[s] = \"\" # Collect all the states and initialize them as empty\n",
    "\n",
    "    # update final value function\n",
    "    for s in states:\n",
    "        V[s] = returns_sum[s]/returns_count[s]\n",
    "    \n",
    "    return V"
   ]
  },
  {
   "cell_type": "code",
   "execution_count": 19,
   "metadata": {},
   "outputs": [
    {
     "name": "stdout",
     "output_type": "stream",
     "text": [
      "defaultdict(<class 'float'>, {(17, 6, False): -0.7, (20, 10, False): 0.4074074074074074, (16, 10, False): -0.7878787878787878, (18, 10, False): -0.9024390243902439, (12, 3, False): -0.4, (12, 5, False): -0.45454545454545453, (21, 10, True): 0.8823529411764706, (15, 10, True): -0.3333333333333333, (14, 3, False): -0.5, (18, 9, False): -0.75, (20, 8, False): 0.5833333333333334, (18, 2, False): -0.7647058823529411, (14, 2, False): -0.4375, (19, 1, False): -0.75, (15, 6, False): -1.0, (20, 5, False): 0.6666666666666666, (14, 5, False): -0.6153846153846154, (20, 3, False): 0.5, (19, 3, False): -0.5384615384615384, (17, 1, False): -0.4444444444444444, (16, 9, False): -0.6666666666666666, (21, 2, True): 0.8571428571428571, (15, 3, False): -1.0, (13, 6, False): -0.8, (18, 2, True): -1.0, (18, 8, False): -0.2727272727272727, (12, 8, False): -0.16666666666666666, (13, 8, False): -0.7777777777777778, (14, 10, False): -0.5897435897435898, (21, 6, True): 1.0, (18, 7, False): -1.0, (21, 3, False): 1.0, (16, 3, False): -0.14285714285714285, (21, 10, False): 0.8181818181818182, (20, 10, True): 0.375, (19, 2, False): -0.5714285714285714, (15, 2, False): -0.08333333333333333, (13, 10, False): -0.85, (21, 4, True): 0.8888888888888888, (14, 1, False): -0.7, (15, 7, False): -1.0, (15, 9, False): -0.6363636363636364, (20, 1, False): 0.5625, (17, 4, False): -0.5, (13, 2, False): -0.2222222222222222, (19, 10, False): -0.5277777777777778, (12, 9, False): -1.0, (21, 9, False): 1.0, (13, 1, False): -0.5833333333333334, (20, 9, False): 0.7142857142857143, (17, 9, False): -0.38461538461538464, (13, 9, False): -0.6666666666666666, (19, 7, False): -1.0, (12, 7, False): -0.5555555555555556, (14, 7, True): -1.0, (18, 1, False): -0.7, (18, 5, False): -0.75, (15, 5, False): -0.4666666666666667, (13, 5, False): -0.6153846153846154, (20, 2, False): 0.7692307692307693, (21, 1, True): 0.8181818181818182, (14, 9, False): -0.2727272727272727, (17, 7, False): -0.6, (17, 7, True): -1.0, (21, 8, True): 1.0, (15, 10, False): -0.7894736842105263, (17, 8, False): -0.6666666666666666, (19, 5, False): -0.7142857142857143, (17, 5, False): -0.23076923076923078, (19, 9, False): -0.6666666666666666, (15, 1, False): -0.6666666666666666, (17, 10, False): -0.7142857142857143, (18, 4, False): -0.3333333333333333, (21, 4, False): 1.0, (14, 4, False): -0.625, (13, 10, True): -0.25, (12, 10, False): -0.5862068965517241, (12, 1, False): -0.6666666666666666, (19, 8, False): -0.8, (16, 8, False): -0.6923076923076923, (14, 8, False): -0.1111111111111111, (20, 6, False): 0.6666666666666666, (20, 4, False): 0.4375, (19, 4, False): -0.5, (13, 3, False): -0.16666666666666666, (16, 10, True): -0.75, (21, 3, True): 1.0, (12, 2, False): -0.2222222222222222, (20, 6, True): 0.0, (13, 3, True): 1.0, (17, 2, False): -0.6923076923076923, (13, 2, True): 0.0, (21, 5, False): 0.9166666666666666, (21, 5, True): 1.0, (14, 6, False): -0.7777777777777778, (15, 7, True): -1.0, (14, 7, False): -0.8181818181818182, (15, 4, False): -0.4, (12, 6, False): -0.6363636363636364, (18, 8, True): 0.0, (15, 8, True): -1.0, (17, 3, False): -0.6363636363636364, (17, 10, True): -0.5, (16, 4, False): -0.2, (21, 8, False): 1.0, (21, 6, False): 0.8571428571428571, (18, 6, False): -0.3333333333333333, (20, 7, False): 0.35714285714285715, (14, 10, True): -0.3333333333333333, (16, 5, False): -0.5, (21, 2, False): 0.9166666666666666, (14, 8, True): 1.0, (12, 4, False): -0.5, (18, 5, True): -1.0, (18, 3, False): -0.4666666666666667, (19, 6, False): -0.9285714285714286, (20, 7, True): 1.0, (19, 7, True): -0.6, (13, 7, True): 1.0, (19, 6, True): 0.0, (16, 7, False): -1.0, (17, 5, True): 0.0, (13, 5, True): -0.5, (16, 1, False): -1.0, (17, 8, True): 1.0, (16, 6, False): -1.0, (17, 6, True): -1.0, (16, 6, True): -1.0, (20, 4, True): 1.0, (20, 5, True): 0.0, (14, 2, True): 1.0, (12, 2, True): 1.0, (16, 2, False): -0.7142857142857143, (16, 2, True): 0.25, (18, 9, True): 0.3333333333333333, (15, 9, True): -1.0, (18, 6, True): -0.5, (21, 1, False): 0.4444444444444444, (13, 7, False): -1.0, (20, 2, True): 0.5, (15, 5, True): -1.0, (16, 7, True): -1.0, (20, 3, True): 0.0, (14, 3, True): 0.0, (15, 8, False): 0.25, (12, 10, True): 0.0, (13, 9, True): -1.0, (15, 3, True): -1.0, (19, 4, True): -1.0, (17, 4, True): -1.0, (20, 1, True): 1.0, (13, 1, True): 1.0, (13, 4, False): -0.2, (21, 7, False): 0.8, (16, 1, True): -1.0, (14, 9, True): -1.0, (14, 5, True): 1.0, (16, 9, True): -1.0, (17, 1, True): -1.0, (21, 9, True): 1.0, (21, 7, True): 0.5, (19, 10, True): -0.6, (20, 8, True): 1.0, (15, 6, True): 0.0, (19, 3, True): -1.0, (18, 3, True): -1.0, (13, 8, True): -1.0, (17, 2, True): -1.0, (15, 2, True): 1.0, (19, 1, True): -1.0, (15, 1, True): -1.0, (16, 3, True): -1.0, (18, 10, True): -1.0, (19, 9, True): -1.0, (18, 1, True): -1.0, (13, 4, True): -1.0, (12, 7, True): -1.0, (17, 9, True): 1.0, (20, 9, True): -1.0})\n"
     ]
    }
   ],
   "source": [
    "V = mc_prediction(simple_policy, env, num_episodes=1000)\n",
    "print(V)"
   ]
  },
  {
   "cell_type": "markdown",
   "metadata": {
    "deletable": false,
    "editable": false,
    "nbgrader": {
     "checksum": "65fb9d8060a4c843e72474169396eb3e",
     "grade": false,
     "grade_id": "cell-9d32f907f180c088",
     "locked": true,
     "schema_version": 1,
     "solution": false
    }
   },
   "source": [
    "Now make *4 plots* like Figure 5.1 in the book. You can either make 3D plots or heatmaps. Make sure that your results look similar to the results in the book. Give your plots appropriate titles, axis labels, etc."
   ]
  },
  {
   "cell_type": "code",
   "execution_count": 20,
   "metadata": {
    "deletable": false,
    "editable": false,
    "nbgrader": {
     "checksum": "8a4eee824f088a6c13ee8c9296af4561",
     "grade": false,
     "grade_id": "cell-cbaf4d6a0e4c00fa",
     "locked": true,
     "schema_version": 1,
     "solution": false
    }
   },
   "outputs": [
    {
     "name": "stdout",
     "output_type": "stream",
     "text": [
      "CPU times: user 29.9 s, sys: 62.1 ms, total: 30 s\n",
      "Wall time: 30 s\n"
     ]
    }
   ],
   "source": [
    "%%time\n",
    "V_10k = mc_prediction(simple_policy, env, num_episodes=10000)\n",
    "V_500k = mc_prediction(simple_policy, env, num_episodes=500000)"
   ]
  },
  {
   "cell_type": "code",
   "execution_count": 21,
   "metadata": {
    "deletable": false,
    "nbgrader": {
     "checksum": "84102d69cdad07cf0100d846346b65e6",
     "grade": true,
     "grade_id": "cell-ba046443478aa517",
     "locked": false,
     "points": 2,
     "schema_version": 1,
     "solution": true
    }
   },
   "outputs": [
    {
     "data": {
      "text/plain": "<Figure size 432x288 with 2 Axes>",
      "image/png": "[encoded data removed]"
     },
     "metadata": {
      "needs_background": "light"
     },
     "output_type": "display_data"
    },
    {
     "data": {
      "text/plain": "<Figure size 432x288 with 2 Axes>",
      "image/png": "[encoded data removed]"
     },
     "metadata": {
      "needs_background": "light"
     },
     "output_type": "display_data"
    },
    {
     "data": {
      "text/plain": "<Figure size 432x288 with 2 Axes>",
      "image/png": "[encoded data removed]"
     },
     "metadata": {
      "needs_background": "light"
     },
     "output_type": "display_data"
    },
    {
     "data": {
      "text/plain": "<Figure size 432x288 with 2 Axes>",
      "image/png": "[encoded data removed]"
     },
     "metadata": {
      "needs_background": "light"
     },
     "output_type": "display_data"
    }
   ],
   "source": [
    "import seaborn as sns\n",
    "\n",
    "def create_value_map(values): \n",
    "    value_map = np.zeros((10,10))\n",
    "    value_map_ace = np.zeros((10, 10))\n",
    "    for s in values:\n",
    "        if not s[2]:\n",
    "            value_map[s[0]-12, s[1]-1] = values[s]\n",
    "        else:\n",
    "            value_map_ace[s[0]-12, s[1]-1] = values[s]\n",
    "    return np.flipud(value_map), np.flipud(value_map_ace)\n",
    "\n",
    "        \n",
    "def plotting(values, title):\n",
    "    ax = sns.heatmap(values, cmap=\"hot\", linewidth=0.5)\n",
    "    labels = range(10)\n",
    "    x_labels = [i+1 for i in labels]\n",
    "    x_labels[0] = \"A\"\n",
    "    y_labels = reversed([i+12 for i in labels])\n",
    "    ax.set_xticklabels(x_labels)\n",
    "    ax.set_yticklabels(y_labels)\n",
    "    plt.title(title)\n",
    "    plt.show()\n",
    "\n",
    "value_map, value_map_ace = create_value_map(V_10k)\n",
    "value_map_500k, value_map_500k_ace = create_value_map(V_500k)\n",
    "\n",
    "plotting(value_map, \"No usable Ace: After 10,000 episodes\")\n",
    "plotting(value_map_ace, \"Usable Ace: After 10,000 episodes\")\n",
    "plotting(value_map_500k, \"No usable Ace: After 500,000 episodes\")\n",
    "plotting(value_map_500k_ace, \"Usable Ace: After 500,000 episodes\")"
   ]
  },
  {
   "cell_type": "markdown",
   "metadata": {
    "deletable": false,
    "editable": false,
    "nbgrader": {
     "checksum": "c1baa558731a1618d32691224e5b5780",
     "grade": false,
     "grade_id": "cell-a5cc039e3d648855",
     "locked": true,
     "schema_version": 1,
     "solution": false
    }
   },
   "source": [
    "## 5. Monte Carlo control with $\\epsilon$-greedy policy (5 points)\n",
    "Now we have a method to evaluate state-values given a policy. Take a moment to think whether we can use the value function to find a better policy? Assuming we do not know the dynamics of the environment, why is this not possible?\n",
    "\n",
    "We want a policy that selects _actions_ with maximum value, e.g. is _greedy_ with respect to the _action-value_ (or Q-value) function $Q(s,a)$. We need to keep exploring, so with probability $\\epsilon$ we will take a random action. First, lets implement a function `make_epsilon_greedy_policy` that takes the Q-value function and returns an $\\epsilon$-greedy policy. The policy itself is a function that returns an action."
   ]
  },
  {
   "cell_type": "code",
   "execution_count": 22,
   "metadata": {
    "deletable": false,
    "nbgrader": {
     "checksum": "f1469d08ccd4665219d42e03b709c690",
     "grade": true,
     "grade_id": "cell-78eff3f4ca0f0e09",
     "locked": false,
     "points": 1,
     "schema_version": 1,
     "solution": true
    }
   },
   "outputs": [],
   "source": [
    "import random\n",
    "\n",
    "def make_epsilon_greedy_policy(Q, epsilon, nA):\n",
    "    \"\"\"\n",
    "    Creates an epsilon-greedy policy based on a given Q-function and epsilon.\n",
    "    \n",
    "    Args:\n",
    "        Q: A dictionary that maps from state -> action-values.\n",
    "            Each value is a numpy array of length nA (see below)\n",
    "        epsilon: The probability to select a random action . float between 0 and 1.\n",
    "        nA: Number of actions in the environment.\n",
    "    \n",
    "    Returns:\n",
    "        A function that takes the observation as an argument and returns\n",
    "        an action according to the epsilon-greedy policy.\n",
    "    \n",
    "    \"\"\"\n",
    "    \n",
    "    def policy_fn(observation):\n",
    "        rand = random.random()\n",
    "        if rand > epsilon:\n",
    "            a = np.argmax(Q[observation])\n",
    "        else:\n",
    "            a = random.choice(range(len(Q[observation])))\n",
    "        return a\n",
    "    return policy_fn"
   ]
  },
  {
   "cell_type": "code",
   "execution_count": 23,
   "metadata": {
    "deletable": false,
    "nbgrader": {
     "checksum": "12a7f4ab3c649a1d768ce80d4573cf28",
     "grade": true,
     "grade_id": "cell-2fc0baa87f31ab98",
     "locked": false,
     "points": 2,
     "schema_version": 1,
     "solution": true
    }
   },
   "outputs": [],
   "source": [
    "def mc_control_epsilon_greedy(env, num_episodes, discount_factor=1.0, epsilon=0.1):\n",
    "    \"\"\"\n",
    "    Monte Carlo Control using Epsilon-Greedy policies.\n",
    "    Finds an optimal epsilon-greedy policy.\n",
    "    \n",
    "    Args:\n",
    "        env: OpenAI gym environment.\n",
    "        num_episodes: Number of episodes to sample.\n",
    "        discount_factor: Gamma discount factor.\n",
    "        epsilon: Chance to sample a random action. Float between 0 and 1.\n",
    "    \n",
    "    Returns:\n",
    "        A tuple (Q, policy).\n",
    "        Q is a dictionary mapping state -> action values.\n",
    "        policy is a function that takes an observation as an argument and returns\n",
    "        action probabilities\n",
    "    \"\"\"\n",
    "\n",
    "    returns_sum = defaultdict(lambda: np.zeros(env.action_space.n))\n",
    "    returns_count = defaultdict(lambda: np.zeros(env.action_space.n, dtype=int))\n",
    "\n",
    "    Q = defaultdict(lambda: np.zeros(env.action_space.n))\n",
    "    policy = make_epsilon_greedy_policy(Q, epsilon, env.action_space.n)\n",
    "\n",
    "    state_actions = []\n",
    "    for i in range(num_episodes):\n",
    "        # Generate episode\n",
    "        s_next = env.reset()\n",
    "        done = False\n",
    "        state_action_reward = []\n",
    "        while not done: \n",
    "            s = s_next\n",
    "            a = policy(s)\n",
    "            s_next, r, done, info = env.step(a)\n",
    "            state_action_reward.append((s, a, r))\n",
    "            state_actions.append((s, a))\n",
    "        # update count and sum\n",
    "        G = 0\n",
    "        for (s, a, r) in reversed(state_action_reward):\n",
    "            G = discount_factor * G + r \n",
    "            returns_count[s][a] = returns_count[s][a] + 1\n",
    "            returns_sum[s][a] = returns_sum[s][a] + G\n",
    "        \n",
    "    # update final value function\n",
    "    for (s, a) in state_actions:\n",
    "        Q[s][a] = returns_sum[s][a]/returns_count[s][a]\n",
    "    \n",
    "    return Q, policy\n",
    "\n",
    "# Test it quickly\n",
    "Q, policy = mc_control_epsilon_greedy(env, num_episodes=10000, epsilon=0.1)"
   ]
  },
  {
   "cell_type": "code",
   "execution_count": 24,
   "metadata": {
    "deletable": false,
    "editable": false,
    "nbgrader": {
     "checksum": "9ea50e12589ce430405fa2e92ee0c108",
     "grade": false,
     "grade_id": "cell-e6170d8979ca2a9c",
     "locked": true,
     "schema_version": 1,
     "solution": false
    }
   },
   "outputs": [
    {
     "name": "stdout",
     "output_type": "stream",
     "text": [
      "CPU times: user 31.7 s, sys: 901 ms, total: 32.6 s\n",
      "Wall time: 31.3 s\n"
     ]
    }
   ],
   "source": [
    "%%time\n",
    "Q, policy = mc_control_epsilon_greedy(env, num_episodes=500000, epsilon=0.1)"
   ]
  },
  {
   "cell_type": "markdown",
   "metadata": {
    "deletable": false,
    "editable": false,
    "nbgrader": {
     "checksum": "94d3f0aecbe1b5ebfed94e7b1379f617",
     "grade": false,
     "grade_id": "cell-449e36eb98369942",
     "locked": true,
     "schema_version": 1,
     "solution": false
    }
   },
   "source": [
    "How can you obtain the (V-)value function from the Q-value function? Plot the (V-)value function that is the result of 500K iterations. Additionally, visualize the greedy policy similar to Figure 5.2 in the book. Use a white square for hitting, black for sticking."
   ]
  },
  {
   "cell_type": "markdown",
   "metadata": {},
   "source": [
    "Assuming we will follow a fully greedy policy from now onwards then: $v_{*}(s)=\\max _{a} q_{*}(s, a)$\n",
    "If we follow a $\\epsilon$-greedy policy then: $v_{*}(s)=(1-\\varepsilon) \\max _{a} \\widetilde{q}_{*}(s, a)+\\frac{\\varepsilon}{|\\mathcal{A}(s)|} \\sum_{a} \\widetilde{q}_{*}(s, a)$. Below we will use the greedy policy"
   ]
  },
  {
   "cell_type": "code",
   "execution_count": 25,
   "metadata": {
    "deletable": false,
    "nbgrader": {
     "checksum": "ef932ff88d976ffefc0338822d7d2af9",
     "grade": true,
     "grade_id": "cell-7d797248a3b132f5",
     "locked": false,
     "points": 2,
     "schema_version": 1,
     "solution": true
    }
   },
   "outputs": [
    {
     "data": {
      "text/plain": "<Figure size 432x288 with 2 Axes>",
      "image/png": "[encoded data removed]"
     },
     "metadata": {
      "needs_background": "light"
     },
     "output_type": "display_data"
    },
    {
     "data": {
      "text/plain": "<Figure size 432x288 with 2 Axes>",
      "image/png": "[encoded data removed]"
     },
     "metadata": {
      "needs_background": "light"
     },
     "output_type": "display_data"
    },
    {
     "data": {
      "text/plain": "<Figure size 432x288 with 2 Axes>",
      "image/png": "[encoded data removed]"
     },
     "metadata": {
      "needs_background": "light"
     },
     "output_type": "display_data"
    },
    {
     "data": {
      "text/plain": "<Figure size 432x288 with 2 Axes>",
      "image/png": "[encoded data removed]"
     },
     "metadata": {
      "needs_background": "light"
     },
     "output_type": "display_data"
    }
   ],
   "source": [
    "# Plotting Value function\n",
    "V = defaultdict(float)\n",
    "for s in Q:\n",
    "    V[s] = max(Q[s])\n",
    "\n",
    "values_MC, values_MC_ace = create_value_map(V)\n",
    "plotting(values_MC_ace, \"500k Episodes: Usable Ace\")\n",
    "plotting(values_MC, \"500k Episodes: No usable Ace\")\n",
    "\n",
    "\n",
    "# Plotting Greedy policy\n",
    "opt_pol = defaultdict(int)\n",
    "for s in Q:\n",
    "    opt_pol[s] = np.argmax(Q[s])\n",
    "    \n",
    "opt_pol_MC, opt_pol_MC_ace = create_value_map(opt_pol)\n",
    "plotting(opt_pol_MC_ace, \"500k Episodes: Optimal policy Usable ace\")\n",
    "plotting(opt_pol_MC, \"500k Episodes: Optimal policy No Usable ace\")\n",
    "\n",
    "\n"
   ]
  },
  {
   "cell_type": "code",
   "execution_count": 25,
   "metadata": {},
   "outputs": [],
   "source": []
  }
 ],
 "metadata": {
  "kernelspec": {
   "display_name": "Python 3",
   "language": "python",
   "name": "python3"
  },
  "language_info": {
   "codemirror_mode": {
    "name": "ipython",
    "version": 3
   },
   "file_extension": ".py",
   "mimetype": "text/x-python",
   "name": "python",
   "nbconvert_exporter": "python",
   "pygments_lexer": "ipython3",
   "version": "3.7.3"
  },
  "pycharm": {
   "stem_cell": {
    "cell_type": "raw",
    "source": [
     "\n"
    ],
    "metadata": {
     "collapsed": false
    }
   }
  }
 },
 "nbformat": 4,
 "nbformat_minor": 2
}